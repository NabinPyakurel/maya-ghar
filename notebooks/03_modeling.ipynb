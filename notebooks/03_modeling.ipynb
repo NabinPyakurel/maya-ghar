{
  "nbformat": 4,
  "nbformat_minor": 0,
  "metadata": {
    "colab": {
      "provenance": []
    },
    "kernelspec": {
      "name": "python3",
      "display_name": "Python 3"
    },
    "language_info": {
      "name": "python"
    }
  },
  "cells": [
    {
      "cell_type": "code",
      "source": [
        "from google.colab import drive\n",
        "drive.mount('/content/drive')"
      ],
      "metadata": {
        "colab": {
          "base_uri": "https://localhost:8080/"
        },
        "id": "TP-Lvya7vNID",
        "outputId": "36e6b26c-e1f3-4961-92f3-a0d39a9f5179"
      },
      "execution_count": 2,
      "outputs": [
        {
          "output_type": "stream",
          "name": "stdout",
          "text": [
            "Mounted at /content/drive\n"
          ]
        }
      ]
    },
    {
      "cell_type": "code",
      "execution_count": 6,
      "metadata": {
        "id": "iAfCENOmutA2"
      },
      "outputs": [],
      "source": [
        "import pandas as pd\n",
        "import numpy as np\n",
        "import matplotlib.pyplot as plt\n",
        "import seaborn as sns\n",
        "import warnings\n",
        "warnings.filterwarnings('ignore')\n",
        "from sklearn.model_selection import train_test_split, GridSearchCV\n",
        "from sklearn.metrics import mean_squared_error, r2_score\n",
        "from sklearn.linear_model import LinearRegression\n",
        "from sklearn.feature_selection import SelectKBest, f_regression"
      ]
    },
    {
      "cell_type": "code",
      "source": [
        "merged_df = pd.read_csv('/content/drive/MyDrive/Dataset/merged_df.csv')"
      ],
      "metadata": {
        "id": "S_J7NtppvYsD"
      },
      "execution_count": 7,
      "outputs": []
    },
    {
      "cell_type": "markdown",
      "source": [
        "## Linear Regression Analysis\n",
        "\n",
        "To further quantify the relationship between Political Stability and Foreign Direct Investment, we will use **Linear Regression**.\n",
        "\n",
        "**Why Linear Regression?**\n",
        "\n",
        "*   **Predicting a Continuous Outcome:** Linear regression is used when you want to predict a continuous outcome variable (in this case, FDI) based on one or more predictor variables.\n",
        "*   **Examining Linear Relationships:** It models the linear relationship between the independent variable(s) and the dependent variable. Our scatter plot and correlation analysis suggested a potential linear component to the relationship between Political Stability and FDI.\n",
        "*   **Quantifying the Relationship:** Linear regression provides coefficients that quantify the strength and direction of the relationship between the predictor and the outcome, allowing us to understand how much FDI is expected to change for a one-unit increase in political stability.\n",
        "*   **Statistical Inference:** It allows for statistical inference, providing p-values and confidence intervals for the coefficients, which help determine if the relationship is statistically significant."
      ],
      "metadata": {
        "id": "xOIw6oxmymn5"
      }
    },
    {
      "cell_type": "code",
      "source": [
        "#Features & Target are defined.\n",
        "X = merged_df[['Political_Stability']]   # Independent variable(s)\n",
        "y = merged_df['FDI']                     # Dependent variable"
      ],
      "metadata": {
        "id": "JfPHIl8jvdRP"
      },
      "execution_count": 8,
      "outputs": []
    },
    {
      "cell_type": "code",
      "source": [
        "# Train-Test Split\n",
        "X_train, X_test, y_train, y_test = train_test_split(X, y, test_size=0.2, random_state=42)"
      ],
      "metadata": {
        "id": "qDS1deMhvGg5"
      },
      "execution_count": 9,
      "outputs": []
    },
    {
      "cell_type": "code",
      "source": [
        "# Feature Selection\n",
        "selector = SelectKBest(score_func=f_regression, k='all')\n",
        "X_train_selected = selector.fit_transform(X_train, y_train)\n",
        "X_test_selected = selector.transform(X_test)"
      ],
      "metadata": {
        "id": "yeO1iAhSvlVV"
      },
      "execution_count": 10,
      "outputs": []
    },
    {
      "cell_type": "code",
      "source": [
        "# Linear Regression Model\n",
        "lr = LinearRegression()\n",
        "lr.fit(X_train_selected, y_train)\n",
        "\n",
        "# Predictions\n",
        "y_pred = lr.predict(X_test_selected)\n",
        "\n",
        "# Evaluation\n",
        "r2 = r2_score(y_test, y_pred)\n",
        "rmse = np.sqrt(mean_squared_error(y_test, y_pred))\n",
        "\n",
        "print(\"Linear Regression Results:\")\n",
        "print(f\"R² Score: {r2:.3f}\")\n",
        "print(f\"RMSE: {rmse:.3f}\")\n",
        "print(f\"Intercept: {lr.intercept_:.3f}\")\n",
        "print(f\"Coefficient: {lr.coef_[0]:.3f}\")"
      ],
      "metadata": {
        "colab": {
          "base_uri": "https://localhost:8080/"
        },
        "id": "MleQGsdWvnZG",
        "outputId": "9175c469-970f-40cf-8193-0a782e4f7c7b"
      },
      "execution_count": 11,
      "outputs": [
        {
          "output_type": "stream",
          "name": "stdout",
          "text": [
            "Linear Regression Results:\n",
            "R² Score: 0.008\n",
            "RMSE: 38.978\n",
            "Intercept: 8.860\n",
            "Coefficient: 7.483\n"
          ]
        }
      ]
    },
    {
      "cell_type": "code",
      "source": [
        "# Grid Search\n",
        "param_grid = {'fit_intercept': [True, False]}\n",
        "grid = GridSearchCV(LinearRegression(), param_grid, cv=5, scoring='r2')\n",
        "grid.fit(X_train_selected, y_train)\n",
        "\n",
        "print(\"\\nBest Parameters from GridSearchCV:\", grid.best_params_)\n",
        "print(\"Best Cross-Validated R²:\", grid.best_score_)"
      ],
      "metadata": {
        "colab": {
          "base_uri": "https://localhost:8080/"
        },
        "id": "8PtxecP2vo1v",
        "outputId": "be1e81b3-024f-4b87-8b33-df99e192c770"
      },
      "execution_count": 13,
      "outputs": [
        {
          "output_type": "stream",
          "name": "stdout",
          "text": [
            "\n",
            "Best Parameters from GridSearchCV: {'fit_intercept': True}\n",
            "Best Cross-Validated R²: 0.0103468881780449\n"
          ]
        }
      ]
    },
    {
      "cell_type": "markdown",
      "source": [
        "## Model Performance Metrics\n",
        "\n",
        "Here are the exact values from the linear regression and GridSearchCV outputs:\n",
        "\n",
        "**Linear Regression Results :**\n",
        "\n",
        "*   R² Score: 0.008\n",
        "*   RMSE: 38.978\n",
        "*   Intercept: 8.860\n",
        "*   Coefficient: 7.483\n",
        "\n",
        "**GridSearchCV Results :**\n",
        "\n",
        "*   Best Cross-Validated R²: 0.0103468881780449"
      ],
      "metadata": {
        "id": "Fz2IIPj7vsiA"
      }
    },
    {
      "cell_type": "markdown",
      "source": [
        "The linear regression results indicate a very weak relationship between Political Stability and FDI. The R² score of 0.008 means that only about 0.8% of the variation in FDI can be explained by Political Stability according to this model. The RMSE of 38.978 suggests that, on average, the model's predictions for FDI are off by about 39 percentage points of GDP. The coefficient of 7.483 implies that for every one-unit increase in Political Stability, FDI is predicted to increase by about 7.48 percentage points, with an intercept of 8.860 (predicted FDI when stability is zero).\n",
        "\n",
        "The GridSearchCV's best cross-validated R² of 0.0103 confirms the model's poor performance in generalizing to new data. In essence, while there might be a statistically significant association (as seen in previous tests), this simple linear model is not practically useful for predicting FDI based on political stability alone."
      ],
      "metadata": {
        "id": "ARehdM_rvtUh"
      }
    },
    {
      "cell_type": "markdown",
      "source": [
        "## Business Interpretation of Regression Results\n",
        "\n",
        "The linear regression analysis reveals a statistically significant, but weak, positive relationship between Political Stability and Foreign Direct Investment (FDI).\n",
        "\n",
        "*   **For Businesses:** While the analysis shows that higher political stability is associated with a tendency for increased FDI (indicated by the positive coefficient and statistical significance), the very low R-squared value means that political stability alone explains only a tiny fraction of where foreign investment goes.\n",
        "*   **Practical Implication:** This suggests that while political stability is a favorable factor for businesses considering foreign investment, it is far from the only or most important factor. Investors likely consider a wide range of other economic, market, and regulatory factors much more heavily when making investment decisions.\n",
        "\n",
        "In summary, political stability is a positive signal, but businesses should conduct a comprehensive assessment of various factors when evaluating potential international investment opportunities, as stability by itself is not a strong predictor of high FDI."
      ],
      "metadata": {
        "id": "ZcTvv0u0v4OP"
      }
    }
  ]
}